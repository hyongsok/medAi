{
 "cells": [
  {
   "cell_type": "code",
   "execution_count": 15,
   "metadata": {},
   "outputs": [],
   "source": [
    "import sys\n",
    "import os\n",
    "import csv\n",
    "import numpy as np\n",
    "import torch\n",
    "import torchvision\n",
    "import sklearn.preprocessing\n",
    "import pandas as pd"
   ]
  },
  {
   "cell_type": "code",
   "execution_count": 22,
   "metadata": {},
   "outputs": [],
   "source": [
    "image_folder = 'D:/Dropbox/Data/cropped-outer/'\n",
    "target_csv_file = image_folder+'labels.csv' \n",
    "\n",
    "classlabel = ['no DMR', 'mild NPDR', 'mod NPDR', 'severe NPDR', 'PDR', 'mod or higher', 'severe or higher']\n"
   ]
  },
  {
   "cell_type": "code",
   "execution_count": 23,
   "metadata": {},
   "outputs": [],
   "source": [
    "train_dataset = torchvision.datasets.ImageFolder(root=image_folder)\n",
    "dataset = train_dataset"
   ]
  },
  {
   "cell_type": "code",
   "execution_count": 24,
   "metadata": {},
   "outputs": [],
   "source": [
    "labels_without_aggregator = sklearn.preprocessing.label_binarize([y[1] for y in dataset.imgs], range(len(dataset.classes)))\n",
    "mod_or_higher = np.sign(labels_without_aggregator[:,2:].sum(1))\n",
    "severe_or_higher = np.sign(labels_without_aggregator[:,3:].sum(1))\n",
    "labels = np.hstack((labels_without_aggregator, mod_or_higher.reshape(-1,1), severe_or_higher.reshape(-1,1)))"
   ]
  },
  {
   "cell_type": "code",
   "execution_count": 25,
   "metadata": {},
   "outputs": [],
   "source": [
    "filenames = [y[0].replace(image_folder, '') for y in dataset.imgs]\n",
    "data = pd.DataFrame(data=labels, index=filenames, columns=classlabel)"
   ]
  },
  {
   "cell_type": "code",
   "execution_count": 26,
   "metadata": {},
   "outputs": [],
   "source": [
    "data.to_csv(path_or_buf=target_csv_file, index_label='filename')"
   ]
  },
  {
   "cell_type": "code",
   "execution_count": 27,
   "metadata": {},
   "outputs": [
    {
     "name": "stdout",
     "output_type": "stream",
     "text": [
      "completed.\n"
     ]
    }
   ],
   "source": [
    "print('completed.')\n"
   ]
  },
  {
   "cell_type": "code",
   "execution_count": null,
   "metadata": {},
   "outputs": [],
   "source": []
  },
  {
   "cell_type": "code",
   "execution_count": null,
   "metadata": {},
   "outputs": [],
   "source": []
  }
 ],
 "metadata": {
  "kernelspec": {
   "display_name": "Python 3",
   "language": "python",
   "name": "python3"
  },
  "language_info": {
   "codemirror_mode": {
    "name": "ipython",
    "version": 3
   },
   "file_extension": ".py",
   "mimetype": "text/x-python",
   "name": "python",
   "nbconvert_exporter": "python",
   "pygments_lexer": "ipython3",
   "version": "3.7.0"
  }
 },
 "nbformat": 4,
 "nbformat_minor": 2
}
