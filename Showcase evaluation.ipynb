{
 "cells": [
  {
   "cell_type": "code",
   "execution_count": null,
   "metadata": {},
   "outputs": [],
   "source": [
    "import sys\n",
    "import os\n",
    "import configparser\n",
    "import csv\n",
    "import numpy as np\n",
    "import imageio\n",
    "import torch\n",
    "import torchvision\n",
    "import matplotlib.pyplot as plt\n",
    "from RetinaCheckerMultiClass import RetinaCheckerMultiClass\n",
    "from helper_functions import reduce_to_2_classes, AverageMeter, AccuracyMeter\n",
    "\n",
    "tensor_to_image = torchvision.transforms.ToPILImage()"
   ]
  },
  {
   "cell_type": "code",
   "execution_count": null,
   "metadata": {},
   "outputs": [],
   "source": [
    "# parameter\n",
    "config_file_name = 'test3.cfg'\n",
    "image_path = 'D:\\\\Dropbox\\\\Data\\\\mini-set'\n"
   ]
  },
  {
   "cell_type": "code",
   "execution_count": null,
   "metadata": {},
   "outputs": [],
   "source": [
    "sys.argv[1] = config_file_name\n",
    "# Reading configuration file\n",
    "config = configparser.ConfigParser()\n",
    "config.read(sys.argv[1])\n",
    "\n",
    "config['files']['train path'] = config['files']['test path']\n",
    "    \n",
    "rc = RetinaCheckerMultiClass()\n",
    "rc.initialize( config )\n"
   ]
  },
  {
   "cell_type": "code",
   "execution_count": null,
   "metadata": {},
   "outputs": [],
   "source": []
  },
  {
   "cell_type": "code",
   "execution_count": null,
   "metadata": {},
   "outputs": [],
   "source": [
    "rc.load_state()"
   ]
  },
  {
   "cell_type": "code",
   "execution_count": null,
   "metadata": {},
   "outputs": [],
   "source": [
    "num_images = len(rc.test_loader.dataset)\n",
    "n_cols = 6\n",
    "n_rows = np.ceil(num_images/n_cols)\n",
    "classlabel = ['no DMR', 'mild NPDR', 'mod NPDR', 'severe NPDR', 'PDR']\n"
   ]
  },
  {
   "cell_type": "code",
   "execution_count": null,
   "metadata": {
    "scrolled": true
   },
   "outputs": [],
   "source": [
    "fig, ax = plt.subplots(int(n_rows), int(n_cols), True, True, figsize=(20,int(n_rows)*3))\n",
    "test_loader = rc.test_loader\n",
    "rc.model.eval()  # eval mode (batchnorm uses moving mean/variance instead of mini-batch mean/variance)\n",
    "with torch.no_grad():\n",
    "    losses = AverageMeter()\n",
    "    accuracy = AccuracyMeter()\n",
    "\n",
    "    confusion = torch.zeros((rc.num_classes, rc.num_classes), dtype=torch.float)\n",
    "    counter = 0\n",
    "\n",
    "    for images, labels in test_loader:\n",
    "        images = images.to(rc.device)\n",
    "        labels = labels.to(rc.device)\n",
    "\n",
    "        outputs = rc.model(images)\n",
    "        loss = rc.criterion(outputs, labels)\n",
    "\n",
    "        losses.update(loss.item(), images.size(0))\n",
    "\n",
    "        num_correct = rc._evaluate_performance( labels, outputs )\n",
    "\n",
    "        accuracy.update(num_correct, labels.size(0))\n",
    "        \n",
    "        for img, lab, out in zip(images, labels, outputs):\n",
    "            ii = int(counter/n_cols)\n",
    "            jj = int(counter%n_cols)\n",
    "            ax[ii, jj].imshow(imageio.imread(rc.test_dataset.imgs[counter][0]), origin='lower')\n",
    "            ax[ii, jj].annotate( classlabel[lab.numpy().argmax()], xy=(10,10), color='white', size=10)\n",
    "            ax[ii, jj].annotate( classlabel[out.numpy().argmax()], xy=(120,10), color='cyan', size=10)\n",
    "            for cc in range(5):\n",
    "                ax[ii, jj].annotate( '{}: {:.3f}'.format(classlabel[cc], torch.nn.Sigmoid()(out[cc])) , xy=(10,205-cc*20), color='white', size=10)\n",
    "            counter+=1\n",
    "\n",
    "plt.xticks([])\n",
    "plt.yticks([])\n",
    "\n"
   ]
  },
  {
   "cell_type": "code",
   "execution_count": null,
   "metadata": {},
   "outputs": [],
   "source": []
  },
  {
   "cell_type": "code",
   "execution_count": null,
   "metadata": {},
   "outputs": [],
   "source": []
  },
  {
   "cell_type": "code",
   "execution_count": null,
   "metadata": {},
   "outputs": [],
   "source": []
  },
  {
   "cell_type": "code",
   "execution_count": null,
   "metadata": {},
   "outputs": [],
   "source": []
  },
  {
   "cell_type": "code",
   "execution_count": null,
   "metadata": {},
   "outputs": [],
   "source": []
  }
 ],
 "metadata": {
  "kernelspec": {
   "display_name": "Python 3",
   "language": "python",
   "name": "python3"
  },
  "language_info": {
   "codemirror_mode": {
    "name": "ipython",
    "version": 3
   },
   "file_extension": ".py",
   "mimetype": "text/x-python",
   "name": "python",
   "nbconvert_exporter": "python",
   "pygments_lexer": "ipython3",
   "version": "3.7.0"
  }
 },
 "nbformat": 4,
 "nbformat_minor": 2
}
