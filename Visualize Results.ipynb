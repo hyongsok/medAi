{
 "cells": [
  {
   "cell_type": "code",
   "execution_count": null,
   "metadata": {},
   "outputs": [],
   "source": [
    "import sys\n",
    "import numpy as np\n",
    "import matplotlib.pyplot as plt\n",
    "import torch\n",
    "\n",
    "\n",
    "filename = 'model_181115_inc_csv_pre_validation_after_epoch_17.dat'"
   ]
  },
  {
   "cell_type": "code",
   "execution_count": null,
   "metadata": {},
   "outputs": [],
   "source": [
    "saved = torch.load(filename)\n",
    "\n",
    "train_loss = saved['train_loss']\n",
    "train_accuracy = saved['train_accuracy']\n",
    "test_loss = saved['test_loss']\n",
    "test_accuracy = saved['test_accuracy']\n",
    "test_confusion = saved['test_confusion']\n",
    "classes = saved['classes']\n"
   ]
  },
  {
   "cell_type": "code",
   "execution_count": null,
   "metadata": {
    "scrolled": true
   },
   "outputs": [],
   "source": [
    "plt.plot(train_loss.numpy(), 'r', label='train loss')\n",
    "plt.plot(test_loss.numpy(), 'b', label='test loss')\n",
    "plt.legend()\n",
    "plt.xlabel('epochs')\n",
    "plt.ylabel('loss')\n",
    "plt.xticks(np.arange(0,train_loss.size(0), 10))\n",
    "plt.show()\n",
    "#plt.savefig('loss.png')"
   ]
  },
  {
   "cell_type": "code",
   "execution_count": null,
   "metadata": {},
   "outputs": [],
   "source": [
    "best_epoch = int(np.argmax(test_accuracy.numpy()))\n",
    "max_accuracy = np.max(test_accuracy.numpy())\n",
    "\n",
    "plt.plot(train_accuracy.numpy(), 'r', label='train accuracy')\n",
    "plt.plot(test_accuracy.numpy(), 'b', label='test accuracy')\n",
    "plt.legend()\n",
    "plt.xlabel('epochs')\n",
    "plt.ylabel('accuracy')\n",
    "plt.xticks(np.arange(0,train_accuracy.size(0), 10))\n",
    "plt.plot(best_epoch, max_accuracy, 'bo')\n",
    "plt.annotate(\n",
    "        'epoch {} best @ {:.1f}%'.format(best_epoch, max_accuracy*100),\n",
    "        xy=(best_epoch, max_accuracy), xytext=(20, 20),\n",
    "        textcoords='offset points', ha='right', va='bottom',\n",
    "        arrowprops=dict(arrowstyle = '->', connectionstyle='arc3,rad=0'))\n",
    "plt.show()\n",
    "#plt.savefig('accuracy.png')"
   ]
  },
  {
   "cell_type": "code",
   "execution_count": null,
   "metadata": {},
   "outputs": [],
   "source": [
    "#ax = plt.subplots(1, min(5,test_confusion.size(0)), True, True)\n",
    "#ax[1][0].set_ylabel('predicted label')\n",
    "#ax[1][0].set_yticklabels(classes.keys())\n",
    "#for ii in range(min(5,test_confusion.size(0))):\n",
    "#    ax[1][ii].imshow(test_confusion[-1-ii,:,:].numpy()[::-1,:], origin='lower')\n",
    "#    ax[1][ii].set_xlabel('true label')\n",
    "#    ax[1][ii].set_xticks(np.arange(test_confusion.size(2)))\n",
    "#    ax[1][ii].set_xticklabels(reversed(sorted(classes.keys())), rotation=90)\n",
    "#    ax[1][ii].set_yticks(np.arange(test_confusion.size(2)))\n",
    "#plt.show()\n",
    "#ax[0].savefig('confusion.png')\n",
    "print(classes)\n",
    "print('Best accuracy after epoch {} @ {:.1f}%'.format(best_epoch, max_accuracy*100))\n",
    "print(test_confusion[best_epoch,:,:])\n",
    "\n",
    "print('in percent:\\n', test_confusion[best_epoch,:,:].numpy()/test_confusion.numpy()[0,:,0].sum()*100)\n"
   ]
  },
  {
   "cell_type": "code",
   "execution_count": null,
   "metadata": {},
   "outputs": [],
   "source": [
    "print('Reduction to 2-class problem:')\n",
    "if test_confusion.shape[1] == 2:\n",
    "    confusion_2class = test_confusion[best_epoch,:,:]\n",
    "else:\n",
    "    confusion_2class = 'get function here'\n",
    "                            \n",
    "print('Accuracy: {:.1f}%'.format(np.diag(confusion_2class).sum()/confusion_2class.sum()*100))\n",
    "print('Column 1: noDMR + mild NPDR\\nColumn 2: moderate + severe NPDR, PDR')\n",
    "print(confusion_2class)\n",
    "print('Sensitivity: {:.1f}%'.format(confusion_2class[1,1]/confusion_2class[:,1].sum()*100))\n",
    "print('Specificity: {:.1f}%'.format(confusion_2class[0,0]/confusion_2class[:,0].sum()*100))"
   ]
  },
  {
   "cell_type": "code",
   "execution_count": null,
   "metadata": {},
   "outputs": [],
   "source": [
    "specificity = np.zeros_like(test_accuracy)\n",
    "sensitivity = np.zeros_like(test_accuracy)\n",
    "accuracy = np.zeros_like(test_accuracy)\n",
    "for ii in range(specificity.size):\n",
    "    confusion_2class = test_confusion[ii,:,:]\n",
    "    accuracy[ii] = np.diag(confusion_2class).sum()/confusion_2class.sum()\n",
    "    sensitivity[ii] = confusion_2class[1,1]/confusion_2class[:,1].sum()\n",
    "    specificity[ii] = confusion_2class[0,0]/confusion_2class[:,0].sum()\n",
    "\n",
    "max_acc = np.max(accuracy)\n",
    "best_acc = np.argmax(accuracy)\n",
    "max_sen = np.max(sensitivity)\n",
    "best_sen = np.argmax(sensitivity)\n",
    "max_spe = np.max(specificity)\n",
    "best_spe = np.argmax(specificity)\n",
    "\n",
    "\n",
    "ax = plt.subplots(1, 3, True, True, figsize=(20,3))\n",
    "\n",
    "ax[1][0].plot(accuracy, 'r', label='accuracy')\n",
    "ax[1][0].plot(best_acc, max_acc, 'ro')\n",
    "ax[1][0].annotate(\n",
    "        'epoch {} best acc @ {:.1f}%'.format(best_acc, max_acc*100),\n",
    "        xy=(best_acc, max_acc), xytext=(20, 20),\n",
    "        textcoords='offset points', ha='right', va='bottom',\n",
    "        arrowprops=dict(arrowstyle = '->', connectionstyle='arc3,rad=0'))\n",
    "ax[1][0].legend(loc='lower right')\n",
    "ax[1][0].set_ylabel('accuracy')\n",
    "ax[1][0].set_xlabel('epochs')\n",
    "ax[1][0].set_xticks(np.arange(0,accuracy.size+1, 10))\n",
    "\n",
    "ax[1][1].plot(sensitivity, 'b', label='sensitivity')\n",
    "ax[1][1].plot(best_sen, max_sen, 'bo')\n",
    "ax[1][1].annotate(\n",
    "        'epoch {} best sen @ {:.1f}%'.format(best_sen, max_sen*100),\n",
    "        xy=(best_sen, max_sen), xytext=(20, 20),\n",
    "        textcoords='offset points', ha='right', va='bottom',\n",
    "        arrowprops=dict(arrowstyle = '->', connectionstyle='arc3,rad=0'))\n",
    "ax[1][1].legend(loc='lower right')\n",
    "ax[1][1].set_xlabel('epochs')\n",
    "ax[1][1].set_ylabel('sensitivity')\n",
    "ax[1][1].set_xticks(np.arange(0,accuracy.size+1, 10))\n",
    "\n",
    "ax[1][2].plot(specificity, 'k', label='specificity')\n",
    "ax[1][2].plot(best_spe, max_spe, 'ko')\n",
    "ax[1][2].annotate(\n",
    "        'epoch {} best spec @ {:.1f}%'.format(best_spe, max_spe*100),\n",
    "        xy=(best_spe, max_spe), xytext=(20, 20),\n",
    "        textcoords='offset points', ha='right', va='bottom',\n",
    "        arrowprops=dict(arrowstyle = '->', connectionstyle='arc3,rad=0'))\n",
    "ax[1][2].legend(loc='lower right')\n",
    "ax[1][2].set_xticks(np.arange(0,accuracy.size+1, 10))\n",
    "ax[1][2].set_ylabel('specificity')\n",
    "ax[1][2].set_xlabel('epochs')\n",
    "plt.show()\n",
    "\n",
    "print('Best accuracy in epoch {} with accuracy {:.1f}%, sensitivity {:.1f}%, specificity {:.1f}%'.format(\n",
    "       best_acc, accuracy[best_acc]*100, sensitivity[best_acc]*100, specificity[best_acc]*100))\n",
    "print('Best sensitivity in epoch {} with accuracy {:.1f}%, sensitivity {:.1f}%, specificity {:.1f}%'.format(\n",
    "       best_sen, accuracy[best_sen]*100, sensitivity[best_sen]*100, specificity[best_sen]*100))\n",
    "print('Best specificity in epoch {} with accuracy {:.1f}%, sensitivity {:.1f}%, specificity {:.1f}%'.format(\n",
    "       best_spe, accuracy[best_spe]*100, sensitivity[best_spe]*100, specificity[best_spe]*100))\n"
   ]
  },
  {
   "cell_type": "code",
   "execution_count": null,
   "metadata": {},
   "outputs": [],
   "source": []
  },
  {
   "cell_type": "code",
   "execution_count": null,
   "metadata": {},
   "outputs": [],
   "source": []
  }
 ],
 "metadata": {
  "kernelspec": {
   "display_name": "Python 3",
   "language": "python",
   "name": "python3"
  },
  "language_info": {
   "codemirror_mode": {
    "name": "ipython",
    "version": 3
   },
   "file_extension": ".py",
   "mimetype": "text/x-python",
   "name": "python",
   "nbconvert_exporter": "python",
   "pygments_lexer": "ipython3",
   "version": "3.7.0"
  }
 },
 "nbformat": 4,
 "nbformat_minor": 2
}
