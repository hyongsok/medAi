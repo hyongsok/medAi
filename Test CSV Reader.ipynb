{
 "cells": [
  {
   "cell_type": "code",
   "execution_count": null,
   "metadata": {},
   "outputs": [],
   "source": [
    "import sys\n",
    "import os\n",
    "import configparser\n",
    "import csv\n",
    "import numpy as np\n",
    "import imageio\n",
    "import torch\n",
    "import torchvision\n",
    "import matplotlib.pyplot as plt\n",
    "import skimage.transform\n",
    "from sklearn.metrics import roc_curve, auc\n",
    "from RetinaCheckerCSV import RetinaCheckerCSV\n",
    "from helper_functions import reduce_to_2_classes, AverageMeter, AccuracyMeter\n",
    "from make_default_config import get_config\n"
   ]
  },
  {
   "cell_type": "code",
   "execution_count": null,
   "metadata": {},
   "outputs": [],
   "source": [
    "# parameter\n",
    "config = get_config()\n",
    "config['network']['model'] = 'resnet18'\n",
    "config['network']['pretrained'] = 'False'\n",
    "config['network']['optimizer'] = 'Adam'\n",
    "config['network']['criterion'] = 'BCEWithLogitsLoss'\n",
    "config['network']['multiclass'] = 'True'\n",
    "\n",
    "config['hyperparameter']['epochs'] = '2'\n",
    "config['hyperparameter']['batch size'] = '16'\n",
    "\n",
    "config['files']['test path'] = 'D:/Dropbox/Data/mini-set/'\n",
    "config['files']['train path'] = 'D:/Dropbox/Data/mini-set/'\n",
    "config['files']['samples'] = '32'\n",
    "config['files']['label file'] = 'D:/Dropbox/Data/mini-set/labels.csv'\n"
   ]
  },
  {
   "cell_type": "code",
   "execution_count": null,
   "metadata": {},
   "outputs": [],
   "source": [
    "rc = RetinaCheckerCSV()\n"
   ]
  },
  {
   "cell_type": "code",
   "execution_count": null,
   "metadata": {},
   "outputs": [],
   "source": [
    "rc.initialize( config )"
   ]
  },
  {
   "cell_type": "code",
   "execution_count": null,
   "metadata": {},
   "outputs": [],
   "source": [
    "rc.train_dataset.classes"
   ]
  },
  {
   "cell_type": "code",
   "execution_count": null,
   "metadata": {},
   "outputs": [],
   "source": [
    "losses, accuracy = rc.train()"
   ]
  },
  {
   "cell_type": "code",
   "execution_count": null,
   "metadata": {},
   "outputs": [],
   "source": [
    "losses, accuracy, confusion = rc.validate()"
   ]
  },
  {
   "cell_type": "code",
   "execution_count": null,
   "metadata": {},
   "outputs": [],
   "source": []
  }
 ],
 "metadata": {
  "kernelspec": {
   "display_name": "Python 3",
   "language": "python",
   "name": "python3"
  },
  "language_info": {
   "codemirror_mode": {
    "name": "ipython",
    "version": 3
   },
   "file_extension": ".py",
   "mimetype": "text/x-python",
   "name": "python",
   "nbconvert_exporter": "python",
   "pygments_lexer": "ipython3",
   "version": "3.7.0"
  }
 },
 "nbformat": 4,
 "nbformat_minor": 2
}
