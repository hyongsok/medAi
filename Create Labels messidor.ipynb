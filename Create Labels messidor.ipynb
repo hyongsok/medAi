{
 "cells": [
  {
   "cell_type": "code",
   "execution_count": null,
   "metadata": {},
   "outputs": [],
   "source": [
    "import sys\n",
    "import os\n",
    "import csv\n",
    "import numpy as np\n",
    "import torch\n",
    "import torchvision\n",
    "import sklearn.preprocessing\n",
    "import pandas as pd"
   ]
  },
  {
   "cell_type": "code",
   "execution_count": null,
   "metadata": {},
   "outputs": [],
   "source": [
    "source_csv_file = 'D:/Dropbox/Data/retina_data/messidor-2/messidor_data.csv'\n",
    "image_folder = 'D:/Dropbox/Data/retina_data/messidor-2/IMAGES'\n",
    "target_csv_file = image_folder+'labels.csv' \n",
    "\n",
    "classlabel = ['no DMR', 'mild NPDR', 'mod NPDR', 'severe NPDR', 'PDR', 'mod or higher', 'severe or higher']\n"
   ]
  },
  {
   "cell_type": "code",
   "execution_count": null,
   "metadata": {},
   "outputs": [],
   "source": [
    "data = pd.read_csv(source_csv_file, index_col=0)\n",
    "not_gradable = (data['adjudicated_gradable']==0)\n",
    "data.drop(labels=data.index[not_gradable], inplace=True)\n",
    "data.drop(columns=['adjudicated_dme', 'adjudicated_gradable'], inplace=True)\n"
   ]
  },
  {
   "cell_type": "code",
   "execution_count": null,
   "metadata": {},
   "outputs": [],
   "source": [
    "binary_labels = pd.DataFrame(sklearn.preprocessing.label_binarize(data.adjudicated_dr_grade, classes=range(5)), index=data.index, columns=classlabel[:5])\n",
    "binary_labels[classlabel[5]] = binary_labels[classlabel[2:5]].sum(axis=1).apply(np.sign)\n",
    "binary_labels[classlabel[6]] = binary_labels[classlabel[3:5]].sum(axis=1).apply(np.sign)\n"
   ]
  },
  {
   "cell_type": "code",
   "execution_count": null,
   "metadata": {},
   "outputs": [],
   "source": [
    "data[classlabel] = binary_labels\n",
    "data.drop(columns='adjudicated_dr_grade', inplace=True)"
   ]
  },
  {
   "cell_type": "code",
   "execution_count": null,
   "metadata": {},
   "outputs": [],
   "source": [
    "data.to_csv(path_or_buf=target_csv_file, index_label='filename')"
   ]
  },
  {
   "cell_type": "code",
   "execution_count": null,
   "metadata": {},
   "outputs": [],
   "source": [
    "print('completed.')\n"
   ]
  },
  {
   "cell_type": "code",
   "execution_count": null,
   "metadata": {},
   "outputs": [],
   "source": [
    "import EnhancedImageFolder"
   ]
  },
  {
   "cell_type": "code",
   "execution_count": null,
   "metadata": {},
   "outputs": [],
   "source": [
    "dataset = EnhancedImageFolder.BinaryMultilabelCSVImageFolder(csv_file = target_csv_file, root=image_folder)"
   ]
  },
  {
   "cell_type": "code",
   "execution_count": null,
   "metadata": {},
   "outputs": [],
   "source": [
    "print(dataset)"
   ]
  },
  {
   "cell_type": "code",
   "execution_count": null,
   "metadata": {},
   "outputs": [],
   "source": []
  },
  {
   "cell_type": "code",
   "execution_count": null,
   "metadata": {},
   "outputs": [],
   "source": []
  },
  {
   "cell_type": "code",
   "execution_count": null,
   "metadata": {},
   "outputs": [],
   "source": []
  }
 ],
 "metadata": {
  "kernelspec": {
   "display_name": "Python 3",
   "language": "python",
   "name": "python3"
  },
  "language_info": {
   "codemirror_mode": {
    "name": "ipython",
    "version": 3
   },
   "file_extension": ".py",
   "mimetype": "text/x-python",
   "name": "python",
   "nbconvert_exporter": "python",
   "pygments_lexer": "ipython3",
   "version": "3.7.0"
  }
 },
 "nbformat": 4,
 "nbformat_minor": 2
}
